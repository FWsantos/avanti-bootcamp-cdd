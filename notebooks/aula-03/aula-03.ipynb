{
 "cells": [
  {
   "cell_type": "markdown",
   "metadata": {},
   "source": [
    "# Estatística Descritiva\n",
    "\n",
    "## Atividade do dia\n",
    "\n",
    "**Conjunto de dados**\n",
    "\n",
    "- Pinguins (penguins)\n",
    "- Gorjetas (tips)\n",
    "- Titanic (titanic)\n",
    "- Quarteto anscombe (anscombe)\n",
    "\n",
    "**Atividade**\n",
    "\n",
    "- Carregar conjunto de dados\n",
    "- Criar dicionário de dados\n",
    "- Descrever os dados usando estatística de tendência central e dispersão\n",
    "- Calcular estatísticas de forma separada para cada varoável categórica"
   ]
  },
  {
   "cell_type": "markdown",
   "metadata": {},
   "source": [
    "## Importandos as bibliotecas"
   ]
  },
  {
   "cell_type": "code",
   "execution_count": 3,
   "metadata": {},
   "outputs": [],
   "source": [
    "import numpy as np\n",
    "import pandas as pd\n",
    "import seaborn as sns"
   ]
  },
  {
   "cell_type": "markdown",
   "metadata": {},
   "source": [
    "## Dataset penguins"
   ]
  },
  {
   "cell_type": "markdown",
   "metadata": {},
   "source": [
    "### Carregando DataSet"
   ]
  },
  {
   "cell_type": "code",
   "execution_count": 4,
   "metadata": {},
   "outputs": [
    {
     "data": {
      "text/plain": [
       "species               object\n",
       "island                object\n",
       "bill_length_mm       float64\n",
       "bill_depth_mm        float64\n",
       "flipper_length_mm    float64\n",
       "body_mass_g          float64\n",
       "sex                   object\n",
       "dtype: object"
      ]
     },
     "execution_count": 4,
     "metadata": {},
     "output_type": "execute_result"
    }
   ],
   "source": [
    "df_pg = sns.load_dataset('penguins')\n",
    "\n",
    "# df_tp = sns.load_dataset('tips')\n",
    "# df_tt = sns.load_dataset('titanic')\n",
    "# df_ac = sns.load_dataset('anscombe')\n",
    "\n",
    "df_pg.dtypes"
   ]
  },
  {
   "cell_type": "markdown",
   "metadata": {},
   "source": [
    "### Dicionário de dados"
   ]
  },
  {
   "cell_type": "code",
   "execution_count": 5,
   "metadata": {},
   "outputs": [
    {
     "data": {
      "text/html": [
       "<div>\n",
       "<style scoped>\n",
       "    .dataframe tbody tr th:only-of-type {\n",
       "        vertical-align: middle;\n",
       "    }\n",
       "\n",
       "    .dataframe tbody tr th {\n",
       "        vertical-align: top;\n",
       "    }\n",
       "\n",
       "    .dataframe thead th {\n",
       "        text-align: right;\n",
       "    }\n",
       "</style>\n",
       "<table border=\"1\" class=\"dataframe\">\n",
       "  <thead>\n",
       "    <tr style=\"text-align: right;\">\n",
       "      <th></th>\n",
       "      <th>variavel</th>\n",
       "      <th>descricao</th>\n",
       "      <th>tipo</th>\n",
       "      <th>subtipo</th>\n",
       "    </tr>\n",
       "  </thead>\n",
       "  <tbody>\n",
       "    <tr>\n",
       "      <th>0</th>\n",
       "      <td>species</td>\n",
       "      <td>Espécie do pinguim ('Adelie', 'Gentoo', 'Chins...</td>\n",
       "      <td>Qualitativa</td>\n",
       "      <td>Nominal</td>\n",
       "    </tr>\n",
       "    <tr>\n",
       "      <th>1</th>\n",
       "      <td>island</td>\n",
       "      <td>Ilha em que o dado do pinguim foi coletado ('B...</td>\n",
       "      <td>Qualitativa</td>\n",
       "      <td>Nominal</td>\n",
       "    </tr>\n",
       "    <tr>\n",
       "      <th>2</th>\n",
       "      <td>bill_length_mm</td>\n",
       "      <td>Comprimento do bico do pinguim em milímetros</td>\n",
       "      <td>Quantitativa</td>\n",
       "      <td>Contínua</td>\n",
       "    </tr>\n",
       "    <tr>\n",
       "      <th>3</th>\n",
       "      <td>bill_depth_mm</td>\n",
       "      <td>Profundidade do bico do pinguim em milímetros</td>\n",
       "      <td>Quantitativa</td>\n",
       "      <td>Contínua</td>\n",
       "    </tr>\n",
       "    <tr>\n",
       "      <th>4</th>\n",
       "      <td>flipper_length_mm</td>\n",
       "      <td>Comprimento da nadadeira do pinguim em milímetros</td>\n",
       "      <td>Quantitativa</td>\n",
       "      <td>Contínua</td>\n",
       "    </tr>\n",
       "    <tr>\n",
       "      <th>5</th>\n",
       "      <td>body_mass_g</td>\n",
       "      <td>Massa corporal do pinguim em gramas</td>\n",
       "      <td>Quantitativa</td>\n",
       "      <td>Contínua</td>\n",
       "    </tr>\n",
       "    <tr>\n",
       "      <th>6</th>\n",
       "      <td>sex</td>\n",
       "      <td>Sexo do pinguim em gramas</td>\n",
       "      <td>Qualitativa</td>\n",
       "      <td>Nominal</td>\n",
       "    </tr>\n",
       "  </tbody>\n",
       "</table>\n",
       "</div>"
      ],
      "text/plain": [
       "            variavel                                          descricao  \\\n",
       "0            species  Espécie do pinguim ('Adelie', 'Gentoo', 'Chins...   \n",
       "1             island  Ilha em que o dado do pinguim foi coletado ('B...   \n",
       "2     bill_length_mm       Comprimento do bico do pinguim em milímetros   \n",
       "3      bill_depth_mm      Profundidade do bico do pinguim em milímetros   \n",
       "4  flipper_length_mm  Comprimento da nadadeira do pinguim em milímetros   \n",
       "5        body_mass_g                Massa corporal do pinguim em gramas   \n",
       "6                sex                          Sexo do pinguim em gramas   \n",
       "\n",
       "           tipo   subtipo  \n",
       "0   Qualitativa   Nominal  \n",
       "1   Qualitativa   Nominal  \n",
       "2  Quantitativa  Contínua  \n",
       "3  Quantitativa  Contínua  \n",
       "4  Quantitativa  Contínua  \n",
       "5  Quantitativa  Contínua  \n",
       "6   Qualitativa   Nominal  "
      ]
     },
     "execution_count": 5,
     "metadata": {},
     "output_type": "execute_result"
    }
   ],
   "source": [
    "df_pg_dict = pd.DataFrame([\n",
    "    {\n",
    "        \"variavel\": \"species\",\n",
    "        \"descricao\": \"Espécie do pinguim ('Adelie', 'Gentoo', 'Chinstrap')\",\n",
    "        \"tipo\": \"Qualitativa\",\n",
    "        \"subtipo\": \"Nominal\"\n",
    "    },\n",
    "    {\n",
    "        \"variavel\": \"island\",\n",
    "        \"descricao\": \"Ilha em que o dado do pinguim foi coletado ('Biscue', 'Dream', 'Torgersen')\",\n",
    "        \"tipo\": \"Qualitativa\",\n",
    "        \"subtipo\": \"Nominal\"\n",
    "    },\n",
    "    {\n",
    "        \"variavel\": \"bill_length_mm\",\n",
    "        \"descricao\": \"Comprimento do bico do pinguim em milímetros\",\n",
    "        \"tipo\": \"Quantitativa\",\n",
    "        \"subtipo\": \"Contínua\"\n",
    "    },\n",
    "    {\n",
    "        \"variavel\": \"bill_depth_mm\",\n",
    "        \"descricao\": \"Profundidade do bico do pinguim em milímetros\",\n",
    "        \"tipo\": \"Quantitativa\",\n",
    "        \"subtipo\": \"Contínua\"\n",
    "    },\n",
    "    {\n",
    "        \"variavel\": \"flipper_length_mm\",\n",
    "        \"descricao\": \"Comprimento da nadadeira do pinguim em milímetros\",\n",
    "        \"tipo\": \"Quantitativa\",\n",
    "        \"subtipo\": \"Contínua\"\n",
    "    },\n",
    "    {\n",
    "        \"variavel\": \"body_mass_g\",\n",
    "        \"descricao\": \"Massa corporal do pinguim em gramas\",\n",
    "        \"tipo\": \"Quantitativa\",\n",
    "        \"subtipo\": \"Contínua\"\n",
    "    },\n",
    "    {\n",
    "        \"variavel\": \"sex\",\n",
    "        \"descricao\": \"Sexo do pinguim em gramas\",\n",
    "        \"tipo\": \"Qualitativa\",\n",
    "        \"subtipo\": \"Nominal\"\n",
    "    },\n",
    "])\n",
    "\n",
    "df_pg_dict"
   ]
  },
  {
   "cell_type": "markdown",
   "metadata": {},
   "source": [
    "---"
   ]
  },
  {
   "cell_type": "markdown",
   "metadata": {},
   "source": [
    "## Dataset tips"
   ]
  },
  {
   "cell_type": "markdown",
   "metadata": {},
   "source": [
    "### Carregando DataSet"
   ]
  },
  {
   "cell_type": "markdown",
   "metadata": {},
   "source": [
    "---"
   ]
  },
  {
   "cell_type": "markdown",
   "metadata": {},
   "source": [
    "## Calculando estatísticas de tendência central e disperção"
   ]
  },
  {
   "cell_type": "code",
   "execution_count": 24,
   "metadata": {},
   "outputs": [],
   "source": [
    "def statistics(data_frame, data_frame_dict):\n",
    "    quantitative_vars = data_frame_dict.query(\"tipo == 'Quantitativa'\")['variavel']\n",
    "    quantitative_vars\n",
    "    statistics_columns = np.array(['mean', 'median', 'mode', 'std', 'var'])\n",
    "\n",
    "    statistics_data = np.column_stack([\n",
    "            data_frame[quantitative_vars].mean(),\n",
    "            data_frame[quantitative_vars].median(),\n",
    "            data_frame[quantitative_vars].mode().T,\n",
    "            data_frame[quantitative_vars].std(),\n",
    "            data_frame[quantitative_vars].var()\n",
    "        ])\n",
    "\n",
    "    statistics_list = pd.DataFrame(statistics_data, index=quantitative_vars.values, columns=statistics_columns)\n",
    "    display(statistics_list.T)"
   ]
  },
  {
   "cell_type": "code",
   "execution_count": 25,
   "metadata": {},
   "outputs": [
    {
     "data": {
      "text/html": [
       "<div>\n",
       "<style scoped>\n",
       "    .dataframe tbody tr th:only-of-type {\n",
       "        vertical-align: middle;\n",
       "    }\n",
       "\n",
       "    .dataframe tbody tr th {\n",
       "        vertical-align: top;\n",
       "    }\n",
       "\n",
       "    .dataframe thead th {\n",
       "        text-align: right;\n",
       "    }\n",
       "</style>\n",
       "<table border=\"1\" class=\"dataframe\">\n",
       "  <thead>\n",
       "    <tr style=\"text-align: right;\">\n",
       "      <th>variavel</th>\n",
       "      <th>bill_length_mm</th>\n",
       "      <th>bill_depth_mm</th>\n",
       "      <th>flipper_length_mm</th>\n",
       "      <th>body_mass_g</th>\n",
       "    </tr>\n",
       "  </thead>\n",
       "  <tbody>\n",
       "    <tr>\n",
       "      <th>mean</th>\n",
       "      <td>43.921930</td>\n",
       "      <td>17.151170</td>\n",
       "      <td>200.915205</td>\n",
       "      <td>4201.754386</td>\n",
       "    </tr>\n",
       "    <tr>\n",
       "      <th>median</th>\n",
       "      <td>44.450000</td>\n",
       "      <td>17.300000</td>\n",
       "      <td>197.000000</td>\n",
       "      <td>4050.000000</td>\n",
       "    </tr>\n",
       "    <tr>\n",
       "      <th>mode</th>\n",
       "      <td>41.100000</td>\n",
       "      <td>17.000000</td>\n",
       "      <td>190.000000</td>\n",
       "      <td>3800.000000</td>\n",
       "    </tr>\n",
       "    <tr>\n",
       "      <th>std</th>\n",
       "      <td>5.459584</td>\n",
       "      <td>1.974793</td>\n",
       "      <td>14.061714</td>\n",
       "      <td>801.954536</td>\n",
       "    </tr>\n",
       "    <tr>\n",
       "      <th>var</th>\n",
       "      <td>29.807054</td>\n",
       "      <td>3.899808</td>\n",
       "      <td>197.731792</td>\n",
       "      <td>643131.077327</td>\n",
       "    </tr>\n",
       "  </tbody>\n",
       "</table>\n",
       "</div>"
      ],
      "text/plain": [
       "variavel  bill_length_mm  bill_depth_mm  flipper_length_mm    body_mass_g\n",
       "mean           43.921930      17.151170         200.915205    4201.754386\n",
       "median         44.450000      17.300000         197.000000    4050.000000\n",
       "mode           41.100000      17.000000         190.000000    3800.000000\n",
       "std             5.459584       1.974793          14.061714     801.954536\n",
       "var            29.807054       3.899808         197.731792  643131.077327"
      ]
     },
     "metadata": {},
     "output_type": "display_data"
    }
   ],
   "source": [
    "statistics(df_pg, df_pg_dict)"
   ]
  }
 ],
 "metadata": {
  "kernelspec": {
   "display_name": "src-6haUfNBS-py3.8",
   "language": "python",
   "name": "python3"
  },
  "language_info": {
   "codemirror_mode": {
    "name": "ipython",
    "version": 3
   },
   "file_extension": ".py",
   "mimetype": "text/x-python",
   "name": "python",
   "nbconvert_exporter": "python",
   "pygments_lexer": "ipython3",
   "version": "3.8.10"
  },
  "orig_nbformat": 4
 },
 "nbformat": 4,
 "nbformat_minor": 2
}
