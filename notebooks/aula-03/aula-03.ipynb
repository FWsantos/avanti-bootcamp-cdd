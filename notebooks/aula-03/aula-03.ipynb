{
 "cells": [
  {
   "cell_type": "markdown",
   "metadata": {},
   "source": [
    "# Estatística Descritiva\n",
    "\n",
    "## Atividade do dia\n",
    "\n",
    "**Conjunto de dados**\n",
    "\n",
    "- Pinguins (penguins)\n",
    "- Gorjetas (tips)\n",
    "- Titanic (titanic)\n",
    "- Quarteto anscombe (anscombe)\n",
    "\n",
    "**Atividade**\n",
    "\n",
    "- Carregar conjunto de dados\n",
    "- Criar dicionário de dados\n",
    "- Descrever os dados usando estatística de tendência central e dispersão\n",
    "- Calcular estatísticas de forma separada para cada varoável categórica"
   ]
  },
  {
   "cell_type": "markdown",
   "metadata": {},
   "source": [
    "---\n",
    "### Códigos"
   ]
  },
  {
   "cell_type": "markdown",
   "metadata": {},
   "source": [
    "Importar o seaborn para carregar os datasets:"
   ]
  },
  {
   "cell_type": "code",
   "execution_count": 1,
   "metadata": {},
   "outputs": [],
   "source": [
    "import seaborn as sns\n",
    "\n",
    "df_pg = sns.load_dataset('penguins')\n",
    "df_tp = sns.load_dataset('tips')\n",
    "df_tt = sns.load_dataset('titanic')\n",
    "df_ac = sns.load_dataset('anscombe')"
   ]
  }
 ],
 "metadata": {
  "kernelspec": {
   "display_name": "src-6haUfNBS-py3.8",
   "language": "python",
   "name": "python3"
  },
  "language_info": {
   "codemirror_mode": {
    "name": "ipython",
    "version": 3
   },
   "file_extension": ".py",
   "mimetype": "text/x-python",
   "name": "python",
   "nbconvert_exporter": "python",
   "pygments_lexer": "ipython3",
   "version": "3.8.17"
  },
  "orig_nbformat": 4
 },
 "nbformat": 4,
 "nbformat_minor": 2
}
