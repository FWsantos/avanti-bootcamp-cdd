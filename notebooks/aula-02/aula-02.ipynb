{
 "cells": [
  {
   "cell_type": "markdown",
   "metadata": {},
   "source": [
    "## Váriaveis e Operadores:\n",
    "\n",
    "a) Crie um programa que leia dois números inteiros e imprima a soma, subtração, multiplicação e divisão entre eles."
   ]
  },
  {
   "cell_type": "code",
   "execution_count": null,
   "metadata": {},
   "outputs": [],
   "source": [
    "x = int(input(\"Digite x.\"))\n",
    "y = int(input(\"Digite y.\"))\n",
    "\n",
    "print(\"x + y = \", (x + y))\n",
    "print(\"x - y = \", (x - y))\n",
    "print(\"x * y = \", (x * y))\n",
    "print(\"x / y = \", (x - y))"
   ]
  },
  {
   "cell_type": "markdown",
   "metadata": {},
   "source": [
    "b) Escreva um programa que calcule a área de um círculo, solicitando o raio do usuário."
   ]
  },
  {
   "cell_type": "code",
   "execution_count": null,
   "metadata": {},
   "outputs": [],
   "source": [
    "import math\n",
    "\n",
    "raio = float(input(\"Digite o valor do raio.\"))\n",
    "\n",
    "print('A área do círculo é: ', (math.pi * (raio**2)))"
   ]
  },
  {
   "cell_type": "markdown",
   "metadata": {},
   "source": [
    "## Estruturas de Seleção e Repetição:\n",
    "\n",
    "a) Escreva um programa que solicite a idade do usuário e imprima se ele é menor de idade (menor que 18 anos) ou maior de idade."
   ]
  },
  {
   "cell_type": "code",
   "execution_count": null,
   "metadata": {},
   "outputs": [],
   "source": [
    "idade = int(input(\"Digite a idade.\"))\n",
    "if idade < 18:\n",
    "    print(\"Menor de idade.\")\n",
    "else:\n",
    "    print(\"Maior de idade.\")"
   ]
  },
  {
   "cell_type": "markdown",
   "metadata": {},
   "source": [
    "b) Crie um programa que peça ao usuário para adivinhar um número secreto entre 1 e 100. O programa deve fornecer dicas se o palpite do usuário é maior ou menor que o número secreto, até que ele adivinhe corretamente."
   ]
  },
  {
   "cell_type": "code",
   "execution_count": null,
   "metadata": {},
   "outputs": [],
   "source": [
    "import random\n",
    "\n",
    "secret_number = random.randrange(1, 100)\n",
    "palpite = 0\n",
    "\n",
    "while palpite != secret_number:\n",
    "    palpite = int(input(\"Digite o palpite.\"))\n",
    "    if palpite < secret_number:\n",
    "        print(\"Palpite é menor que o número secreto.\")\n",
    "    elif palpite > secret_number:\n",
    "        print(\"Palpite é maior que o número secreto.\")\n",
    "print(\"Conseguiu o número secreto era \", secret_number)"
   ]
  },
  {
   "cell_type": "markdown",
   "metadata": {},
   "source": [
    "## Coleções (Listas, Tuplas, Conjuntos):\n",
    "a) Escreva um programa que crie uma lista de 5 números inteiros e imprima os elementos dessa lista."
   ]
  },
  {
   "cell_type": "code",
   "execution_count": null,
   "metadata": {},
   "outputs": [],
   "source": [
    "lista = range(1, 6)\n",
    "\n",
    "for item in lista:\n",
    "    print(item)"
   ]
  },
  {
   "cell_type": "markdown",
   "metadata": {},
   "source": [
    "b) Crie uma tupla com os nomes de alguns animais. Em seguida, peça ao usuário para digitar o nome de um animal e verifique se ele está presente na tupla."
   ]
  },
  {
   "cell_type": "code",
   "execution_count": null,
   "metadata": {},
   "outputs": [],
   "source": [
    "animais = (\"girafa\", \"leão\", \"zebra\", \"hipopótamo\")\n",
    "nome = input(\"Digite um nome de animal\")\n",
    "if nome in animais:\n",
    "    print(\"Está presente.\")\n",
    "else:\n",
    "    print(\"Não está presente.\")"
   ]
  },
  {
   "cell_type": "markdown",
   "metadata": {},
   "source": [
    "## Reutilização de Código (Funções e Módulos):\n",
    "\n",
    "a) Escreva uma função que receba o nome de uma pessoa como argumento e imprima uma mensagem de saudação."
   ]
  },
  {
   "cell_type": "markdown",
   "metadata": {},
   "source": [
    "b) Implemente um módulo contendo uma função que verifique se um número é primo.\n"
   ]
  }
 ],
 "metadata": {
  "language_info": {
   "name": "python"
  },
  "orig_nbformat": 4
 },
 "nbformat": 4,
 "nbformat_minor": 2
}
